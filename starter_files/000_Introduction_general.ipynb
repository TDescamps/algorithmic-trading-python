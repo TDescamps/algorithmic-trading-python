{
 "cells": [
  {
   "cell_type": "markdown",
   "id": "2cd5c87a",
   "metadata": {},
   "source": [
    "# Notes\n",
    "\n",
    "## Introduction\n",
    "\n",
    "Biggest players: \n",
    "- Renaissance Technologie\n",
    "- AQR Capital Management\n",
    "- Citadel Securities\n",
    "\n"
   ]
  }
 ],
 "metadata": {
  "language_info": {
   "name": "python"
  }
 },
 "nbformat": 4,
 "nbformat_minor": 5
}
